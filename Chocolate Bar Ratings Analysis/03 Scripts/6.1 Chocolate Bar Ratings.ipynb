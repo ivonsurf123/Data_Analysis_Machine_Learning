{
 "cells": [
  {
   "cell_type": "markdown",
   "id": "eea587d7-745f-45b7-9cbe-c58541aa2e7b",
   "metadata": {},
   "source": [
    "# CHOCOLATE BAR RATINGS"
   ]
  },
  {
   "cell_type": "code",
   "execution_count": 50,
   "id": "0416414b-668d-4c8a-80e1-f034c3793c24",
   "metadata": {},
   "outputs": [],
   "source": [
    "# Importing libraries\n",
    "\n",
    "import pandas as pd\n",
    "import numpy as np\n",
    "import numpy.linalg as nla\n",
    "import os\n",
    "import matplotlib.pyplot as plt\n",
    "import seaborn as sns\n",
    "import scipy\n",
    "import re\n",
    "import math\n",
    "import six"
   ]
  },
  {
   "cell_type": "code",
   "execution_count": 52,
   "id": "e37b3afc-989b-4fbe-9d4e-a443ce9658ac",
   "metadata": {},
   "outputs": [],
   "source": [
    "# Changing the format of the values visualization\n",
    "\n",
    "pd.options.display.float_format = '{:.2f}'.format\n",
    "\n",
    "# Reseting the maximum number of columns to display to default (all columns)\n",
    "\n",
    "pd.set_option('display.max_columns', None)"
   ]
  },
  {
   "cell_type": "markdown",
   "id": "27906aa8-7f1c-4b0f-aa0f-8f068c921cc2",
   "metadata": {},
   "source": [
    "# Importing Data"
   ]
  },
  {
   "cell_type": "code",
   "execution_count": 55,
   "id": "21b086a0-3a8c-44a8-a835-2cd03836005a",
   "metadata": {},
   "outputs": [],
   "source": [
    "path = r'C:\\Users\\IVON6\\Chocolate Bar Ratings Analysis'\n",
    "df = pd.read_csv(os.path.join(path, '02 Data', 'Original Data', 'flavors_of_cacao.csv'))"
   ]
  },
  {
   "cell_type": "code",
   "execution_count": 57,
   "id": "979251ec-92db-459b-8a8d-20a99e138109",
   "metadata": {},
   "outputs": [
    {
     "data": {
      "text/html": [
       "<div>\n",
       "<style scoped>\n",
       "    .dataframe tbody tr th:only-of-type {\n",
       "        vertical-align: middle;\n",
       "    }\n",
       "\n",
       "    .dataframe tbody tr th {\n",
       "        vertical-align: top;\n",
       "    }\n",
       "\n",
       "    .dataframe thead th {\n",
       "        text-align: right;\n",
       "    }\n",
       "</style>\n",
       "<table border=\"1\" class=\"dataframe\">\n",
       "  <thead>\n",
       "    <tr style=\"text-align: right;\">\n",
       "      <th></th>\n",
       "      <th>Company \\n(Maker-if known)</th>\n",
       "      <th>Specific Bean Origin\\nor Bar Name</th>\n",
       "      <th>REF</th>\n",
       "      <th>Review\\nDate</th>\n",
       "      <th>Cocoa\\nPercent</th>\n",
       "      <th>Company\\nLocation</th>\n",
       "      <th>Rating</th>\n",
       "      <th>Bean\\nType</th>\n",
       "      <th>Broad Bean\\nOrigin</th>\n",
       "    </tr>\n",
       "  </thead>\n",
       "  <tbody>\n",
       "    <tr>\n",
       "      <th>0</th>\n",
       "      <td>A. Morin</td>\n",
       "      <td>Agua Grande</td>\n",
       "      <td>1876</td>\n",
       "      <td>2016</td>\n",
       "      <td>63%</td>\n",
       "      <td>France</td>\n",
       "      <td>3.75</td>\n",
       "      <td></td>\n",
       "      <td>Sao Tome</td>\n",
       "    </tr>\n",
       "    <tr>\n",
       "      <th>1</th>\n",
       "      <td>A. Morin</td>\n",
       "      <td>Kpime</td>\n",
       "      <td>1676</td>\n",
       "      <td>2015</td>\n",
       "      <td>70%</td>\n",
       "      <td>France</td>\n",
       "      <td>2.75</td>\n",
       "      <td></td>\n",
       "      <td>Togo</td>\n",
       "    </tr>\n",
       "    <tr>\n",
       "      <th>2</th>\n",
       "      <td>A. Morin</td>\n",
       "      <td>Atsane</td>\n",
       "      <td>1676</td>\n",
       "      <td>2015</td>\n",
       "      <td>70%</td>\n",
       "      <td>France</td>\n",
       "      <td>3.00</td>\n",
       "      <td></td>\n",
       "      <td>Togo</td>\n",
       "    </tr>\n",
       "    <tr>\n",
       "      <th>3</th>\n",
       "      <td>A. Morin</td>\n",
       "      <td>Akata</td>\n",
       "      <td>1680</td>\n",
       "      <td>2015</td>\n",
       "      <td>70%</td>\n",
       "      <td>France</td>\n",
       "      <td>3.50</td>\n",
       "      <td></td>\n",
       "      <td>Togo</td>\n",
       "    </tr>\n",
       "    <tr>\n",
       "      <th>4</th>\n",
       "      <td>A. Morin</td>\n",
       "      <td>Quilla</td>\n",
       "      <td>1704</td>\n",
       "      <td>2015</td>\n",
       "      <td>70%</td>\n",
       "      <td>France</td>\n",
       "      <td>3.50</td>\n",
       "      <td></td>\n",
       "      <td>Peru</td>\n",
       "    </tr>\n",
       "  </tbody>\n",
       "</table>\n",
       "</div>"
      ],
      "text/plain": [
       "  Company \\n(Maker-if known) Specific Bean Origin\\nor Bar Name   REF  \\\n",
       "0                   A. Morin                       Agua Grande  1876   \n",
       "1                   A. Morin                             Kpime  1676   \n",
       "2                   A. Morin                            Atsane  1676   \n",
       "3                   A. Morin                             Akata  1680   \n",
       "4                   A. Morin                            Quilla  1704   \n",
       "\n",
       "   Review\\nDate Cocoa\\nPercent Company\\nLocation  Rating Bean\\nType  \\\n",
       "0          2016            63%            France    3.75              \n",
       "1          2015            70%            France    2.75              \n",
       "2          2015            70%            France    3.00              \n",
       "3          2015            70%            France    3.50              \n",
       "4          2015            70%            France    3.50              \n",
       "\n",
       "  Broad Bean\\nOrigin  \n",
       "0           Sao Tome  \n",
       "1               Togo  \n",
       "2               Togo  \n",
       "3               Togo  \n",
       "4               Peru  "
      ]
     },
     "execution_count": 57,
     "metadata": {},
     "output_type": "execute_result"
    }
   ],
   "source": [
    "# Print the first 5 rows\n",
    "df.head()"
   ]
  },
  {
   "cell_type": "code",
   "execution_count": 59,
   "id": "54a3f485-473d-4b22-8027-5d172f39cb57",
   "metadata": {},
   "outputs": [
    {
     "data": {
      "text/plain": [
       "Company \\n(Maker-if known)            object\n",
       "Specific Bean Origin\\nor Bar Name     object\n",
       "REF                                    int64\n",
       "Review\\nDate                           int64\n",
       "Cocoa\\nPercent                        object\n",
       "Company\\nLocation                     object\n",
       "Rating                               float64\n",
       "Bean\\nType                            object\n",
       "Broad Bean\\nOrigin                    object\n",
       "dtype: object"
      ]
     },
     "execution_count": 59,
     "metadata": {},
     "output_type": "execute_result"
    }
   ],
   "source": [
    "df.dtypes"
   ]
  },
  {
   "cell_type": "markdown",
   "id": "c9c08e1a-83fd-4e76-aee0-d83b2300f2b1",
   "metadata": {},
   "source": [
    "# Cleaning Data"
   ]
  },
  {
   "cell_type": "code",
   "execution_count": 62,
   "id": "2adc6488-fef3-41d0-8781-c1581bd21d5b",
   "metadata": {},
   "outputs": [
    {
     "data": {
      "text/plain": [
       "Company \\n(Maker-if known)           0\n",
       "Specific Bean Origin\\nor Bar Name    0\n",
       "REF                                  0\n",
       "Review\\nDate                         0\n",
       "Cocoa\\nPercent                       0\n",
       "Company\\nLocation                    0\n",
       "Rating                               0\n",
       "Bean\\nType                           1\n",
       "Broad Bean\\nOrigin                   1\n",
       "dtype: int64"
      ]
     },
     "execution_count": 62,
     "metadata": {},
     "output_type": "execute_result"
    }
   ],
   "source": [
    "# Null analysis\n",
    "df.isnull().sum()"
   ]
  },
  {
   "cell_type": "code",
   "execution_count": 64,
   "id": "9f3722c9-7f90-49a8-a314-d4d41cacb16c",
   "metadata": {},
   "outputs": [
    {
     "data": {
      "text/plain": [
       "0"
      ]
     },
     "execution_count": 64,
     "metadata": {},
     "output_type": "execute_result"
    }
   ],
   "source": [
    "# Duplicates analysis\n",
    "df.duplicated().sum()"
   ]
  },
  {
   "cell_type": "code",
   "execution_count": 66,
   "id": "2d04deb3-ffb5-4aa6-b594-7afa269311f3",
   "metadata": {},
   "outputs": [],
   "source": [
    " # Rename the columns.\n",
    "\n",
    " df.columns = [\n",
    "        'company', 'bar_name', 'reference_number',\n",
    "        'review_date', 'cocoa_percent', 'company_location',\n",
    "        'rating', 'bean_type', 'bean_origin'\n",
    "    ]\n"
   ]
  },
  {
   "cell_type": "code",
   "execution_count": 68,
   "id": "72d53230-8126-466f-ae9a-317ded282626",
   "metadata": {},
   "outputs": [
    {
     "data": {
      "text/plain": [
       "company              object\n",
       "bar_name             object\n",
       "reference_number      int64\n",
       "review_date           int64\n",
       "cocoa_percent        object\n",
       "company_location     object\n",
       "rating              float64\n",
       "bean_type            object\n",
       "bean_origin          object\n",
       "dtype: object"
      ]
     },
     "execution_count": 68,
     "metadata": {},
     "output_type": "execute_result"
    }
   ],
   "source": [
    "df.dtypes"
   ]
  },
  {
   "cell_type": "code",
   "execution_count": 70,
   "id": "8ce56b87-58b4-4daa-92cc-f2e2a0edca78",
   "metadata": {},
   "outputs": [],
   "source": [
    "  # Replace empty/null values with \"Blend\"\n",
    "df['bean_type'] = df['bean_type'].fillna('Blend')"
   ]
  },
  {
   "cell_type": "code",
   "execution_count": 72,
   "id": "3fc7eb21-6060-4f19-ad44-b01842ef0852",
   "metadata": {},
   "outputs": [
    {
     "data": {
      "text/plain": [
       "company             0\n",
       "bar_name            0\n",
       "reference_number    0\n",
       "review_date         0\n",
       "cocoa_percent       0\n",
       "company_location    0\n",
       "rating              0\n",
       "bean_type           0\n",
       "bean_origin         1\n",
       "dtype: int64"
      ]
     },
     "execution_count": 72,
     "metadata": {},
     "output_type": "execute_result"
    }
   ],
   "source": [
    "# Null analysis\n",
    "df.isnull().sum()"
   ]
  },
  {
   "cell_type": "code",
   "execution_count": 74,
   "id": "f37f28c9-a1a0-4ee4-9178-fc5e5c72a69d",
   "metadata": {},
   "outputs": [
    {
     "data": {
      "text/html": [
       "<style type=\"text/css\">\n",
       "#T_98f1b_row0_col0 {\n",
       "  background-color: yellow;\n",
       "}\n",
       "</style>\n",
       "<table id=\"T_98f1b\">\n",
       "  <thead>\n",
       "    <tr>\n",
       "      <th class=\"blank level0\" >&nbsp;</th>\n",
       "      <th id=\"T_98f1b_level0_col0\" class=\"col_heading level0 col0\" >bean_type</th>\n",
       "      <th id=\"T_98f1b_level0_col1\" class=\"col_heading level0 col1\" >Count</th>\n",
       "    </tr>\n",
       "  </thead>\n",
       "  <tbody>\n",
       "    <tr>\n",
       "      <th id=\"T_98f1b_level0_row0\" class=\"row_heading level0 row0\" >0</th>\n",
       "      <td id=\"T_98f1b_row0_col0\" class=\"data row0 col0\" >Missing</td>\n",
       "      <td id=\"T_98f1b_row0_col1\" class=\"data row0 col1\" >887</td>\n",
       "    </tr>\n",
       "    <tr>\n",
       "      <th id=\"T_98f1b_level0_row1\" class=\"row_heading level0 row1\" >1</th>\n",
       "      <td id=\"T_98f1b_row1_col0\" class=\"data row1 col0\" >Trinitario</td>\n",
       "      <td id=\"T_98f1b_row1_col1\" class=\"data row1 col1\" >419</td>\n",
       "    </tr>\n",
       "    <tr>\n",
       "      <th id=\"T_98f1b_level0_row2\" class=\"row_heading level0 row2\" >2</th>\n",
       "      <td id=\"T_98f1b_row2_col0\" class=\"data row2 col0\" >Criollo</td>\n",
       "      <td id=\"T_98f1b_row2_col1\" class=\"data row2 col1\" >153</td>\n",
       "    </tr>\n",
       "    <tr>\n",
       "      <th id=\"T_98f1b_level0_row3\" class=\"row_heading level0 row3\" >3</th>\n",
       "      <td id=\"T_98f1b_row3_col0\" class=\"data row3 col0\" >Forastero</td>\n",
       "      <td id=\"T_98f1b_row3_col1\" class=\"data row3 col1\" >87</td>\n",
       "    </tr>\n",
       "    <tr>\n",
       "      <th id=\"T_98f1b_level0_row4\" class=\"row_heading level0 row4\" >4</th>\n",
       "      <td id=\"T_98f1b_row4_col0\" class=\"data row4 col0\" >Forastero (Nacional)</td>\n",
       "      <td id=\"T_98f1b_row4_col1\" class=\"data row4 col1\" >52</td>\n",
       "    </tr>\n",
       "    <tr>\n",
       "      <th id=\"T_98f1b_level0_row5\" class=\"row_heading level0 row5\" >5</th>\n",
       "      <td id=\"T_98f1b_row5_col0\" class=\"data row5 col0\" >Blend</td>\n",
       "      <td id=\"T_98f1b_row5_col1\" class=\"data row5 col1\" >42</td>\n",
       "    </tr>\n",
       "    <tr>\n",
       "      <th id=\"T_98f1b_level0_row6\" class=\"row_heading level0 row6\" >6</th>\n",
       "      <td id=\"T_98f1b_row6_col0\" class=\"data row6 col0\" >Criollo, Trinitario</td>\n",
       "      <td id=\"T_98f1b_row6_col1\" class=\"data row6 col1\" >39</td>\n",
       "    </tr>\n",
       "    <tr>\n",
       "      <th id=\"T_98f1b_level0_row7\" class=\"row_heading level0 row7\" >7</th>\n",
       "      <td id=\"T_98f1b_row7_col0\" class=\"data row7 col0\" >Forastero (Arriba)</td>\n",
       "      <td id=\"T_98f1b_row7_col1\" class=\"data row7 col1\" >37</td>\n",
       "    </tr>\n",
       "    <tr>\n",
       "      <th id=\"T_98f1b_level0_row8\" class=\"row_heading level0 row8\" >8</th>\n",
       "      <td id=\"T_98f1b_row8_col0\" class=\"data row8 col0\" >Criollo (Porcelana)</td>\n",
       "      <td id=\"T_98f1b_row8_col1\" class=\"data row8 col1\" >10</td>\n",
       "    </tr>\n",
       "    <tr>\n",
       "      <th id=\"T_98f1b_level0_row9\" class=\"row_heading level0 row9\" >9</th>\n",
       "      <td id=\"T_98f1b_row9_col0\" class=\"data row9 col0\" >Trinitario, Criollo</td>\n",
       "      <td id=\"T_98f1b_row9_col1\" class=\"data row9 col1\" >9</td>\n",
       "    </tr>\n",
       "  </tbody>\n",
       "</table>\n"
      ],
      "text/plain": [
       "<pandas.io.formats.style.Styler at 0x1f6b61dfc50>"
      ]
     },
     "execution_count": 74,
     "metadata": {},
     "output_type": "execute_result"
    }
   ],
   "source": [
    "# Convert the column to numeric values (floats)\n",
    "df['cocoa_percent'] = pd.to_numeric(df['cocoa_percent'].str.rstrip('%'), errors='coerce')\n",
    "\n",
    "# Remove NaN values and convert to integers\n",
    "df['cocoa_percent'] = df['cocoa_percent'].fillna(0).astype(int)\n",
    "\n",
    "# Remove leading and trailing spaces from 'bean_type' column\n",
    "df['bean_type'] = df['bean_type'].str.strip()\n",
    "\n",
    "# Replace empty strings with 'Missing'\n",
    "df['bean_type'] = df['bean_type'].replace('', 'Missing')\n",
    "\n",
    "# Get the top values of 'bean_type'\n",
    "top_bean_types = df['bean_type'].value_counts().head(10)\n",
    "\n",
    "# Create a DataFrame of top 'Bean_Type' values and their counts\n",
    "top_bean_types_df = pd.DataFrame({'bean_type': top_bean_types.index, 'Count': top_bean_types.values})\n",
    "\n",
    "# Create a Styler object to highlight 'Missing' values in the table\n",
    "def highlight_missing(s):\n",
    "    is_missing = s == 'Missing'\n",
    "    return ['background-color: yellow' if v else '' for v in is_missing]\n",
    "\n",
    "styled_table = top_bean_types_df.style.apply(highlight_missing)\n",
    "\n",
    "# Display the styled table\n",
    "styled_table"
   ]
  },
  {
   "cell_type": "code",
   "execution_count": 76,
   "id": "029c918a-8cdf-46a2-b032-7c0d72ef0ceb",
   "metadata": {},
   "outputs": [
    {
     "data": {
      "text/html": [
       "<div>\n",
       "<style scoped>\n",
       "    .dataframe tbody tr th:only-of-type {\n",
       "        vertical-align: middle;\n",
       "    }\n",
       "\n",
       "    .dataframe tbody tr th {\n",
       "        vertical-align: top;\n",
       "    }\n",
       "\n",
       "    .dataframe thead th {\n",
       "        text-align: right;\n",
       "    }\n",
       "</style>\n",
       "<table border=\"1\" class=\"dataframe\">\n",
       "  <thead>\n",
       "    <tr style=\"text-align: right;\">\n",
       "      <th></th>\n",
       "      <th>reference_number</th>\n",
       "      <th>review_date</th>\n",
       "      <th>cocoa_percent</th>\n",
       "      <th>rating</th>\n",
       "    </tr>\n",
       "  </thead>\n",
       "  <tbody>\n",
       "    <tr>\n",
       "      <th>count</th>\n",
       "      <td>1795.00</td>\n",
       "      <td>1795.00</td>\n",
       "      <td>1795.00</td>\n",
       "      <td>1795.00</td>\n",
       "    </tr>\n",
       "    <tr>\n",
       "      <th>mean</th>\n",
       "      <td>1035.90</td>\n",
       "      <td>2012.33</td>\n",
       "      <td>71.70</td>\n",
       "      <td>3.19</td>\n",
       "    </tr>\n",
       "    <tr>\n",
       "      <th>std</th>\n",
       "      <td>552.89</td>\n",
       "      <td>2.93</td>\n",
       "      <td>6.32</td>\n",
       "      <td>0.48</td>\n",
       "    </tr>\n",
       "    <tr>\n",
       "      <th>min</th>\n",
       "      <td>5.00</td>\n",
       "      <td>2006.00</td>\n",
       "      <td>42.00</td>\n",
       "      <td>1.00</td>\n",
       "    </tr>\n",
       "    <tr>\n",
       "      <th>25%</th>\n",
       "      <td>576.00</td>\n",
       "      <td>2010.00</td>\n",
       "      <td>70.00</td>\n",
       "      <td>2.88</td>\n",
       "    </tr>\n",
       "    <tr>\n",
       "      <th>50%</th>\n",
       "      <td>1069.00</td>\n",
       "      <td>2013.00</td>\n",
       "      <td>70.00</td>\n",
       "      <td>3.25</td>\n",
       "    </tr>\n",
       "    <tr>\n",
       "      <th>75%</th>\n",
       "      <td>1502.00</td>\n",
       "      <td>2015.00</td>\n",
       "      <td>75.00</td>\n",
       "      <td>3.50</td>\n",
       "    </tr>\n",
       "    <tr>\n",
       "      <th>max</th>\n",
       "      <td>1952.00</td>\n",
       "      <td>2017.00</td>\n",
       "      <td>100.00</td>\n",
       "      <td>5.00</td>\n",
       "    </tr>\n",
       "  </tbody>\n",
       "</table>\n",
       "</div>"
      ],
      "text/plain": [
       "       reference_number  review_date  cocoa_percent  rating\n",
       "count           1795.00      1795.00        1795.00 1795.00\n",
       "mean            1035.90      2012.33          71.70    3.19\n",
       "std              552.89         2.93           6.32    0.48\n",
       "min                5.00      2006.00          42.00    1.00\n",
       "25%              576.00      2010.00          70.00    2.88\n",
       "50%             1069.00      2013.00          70.00    3.25\n",
       "75%             1502.00      2015.00          75.00    3.50\n",
       "max             1952.00      2017.00         100.00    5.00"
      ]
     },
     "execution_count": 76,
     "metadata": {},
     "output_type": "execute_result"
    }
   ],
   "source": [
    "df.describe()"
   ]
  },
  {
   "cell_type": "code",
   "execution_count": 78,
   "id": "84520bb7-0292-445b-b26f-042fe3c30ba7",
   "metadata": {},
   "outputs": [
    {
     "data": {
      "text/plain": [
       "(1795, 9)"
      ]
     },
     "execution_count": 78,
     "metadata": {},
     "output_type": "execute_result"
    }
   ],
   "source": [
    "df.shape"
   ]
  },
  {
   "cell_type": "code",
   "execution_count": 80,
   "id": "c9a1dd64-85e6-41b4-9b41-fa5f35ae17b1",
   "metadata": {},
   "outputs": [],
   "source": [
    "# Correct spelling mistakes, and replace city with country name\n",
    "\n",
    "df['company_location'] = df['company_location']\\\n",
    ".str.replace('Amsterdam', 'Holland')\\\n",
    ".str.replace('U.K.', 'England')\\\n",
    ".str.replace('Niacragua', 'Nicaragua')\\\n",
    ".str.replace('Domincan Republic', 'Dominican Republic')"
   ]
  },
  {
   "cell_type": "code",
   "execution_count": 82,
   "id": "0a33ba19-50ff-49c3-bd44-0484d86674ff",
   "metadata": {},
   "outputs": [],
   "source": [
    "  # Adding this so that Holland and Netherlands map to the same country.\n",
    "df['company_location'] = df['company_location']\\\n",
    ".str.replace('Holland', 'Netherlands')"
   ]
  },
  {
   "cell_type": "code",
   "execution_count": 84,
   "id": "171a5d06-fc45-44d0-ab6b-025a3b660e50",
   "metadata": {},
   "outputs": [],
   "source": [
    "       def cleanup_spelling_abbrev(text):\n",
    "        replacements = [\n",
    "            ['-', ', '], ['/ ', ', '], ['/', ', '], ['\\\\(', ', '], [' and', ', '], [' &', ', '], ['\\\\)', ''],\n",
    "            ['Dom Rep|DR|Domin Rep|Dominican Rep,|Domincan Republic', 'Dominican Republic'],\n",
    "            ['Mad,|Mad$', 'Madagascar, '],\n",
    "            ['PNG', 'Papua New Guinea, '],\n",
    "            ['Guat,|Guat$', 'Guatemala, '],\n",
    "            ['Ven,|Ven$|Venez,|Venez$', 'Venezuela, '],\n",
    "            ['Ecu,|Ecu$|Ecuad,|Ecuad$', 'Ecuador, '],\n",
    "            ['Nic,|Nic$', 'Nicaragua, '],\n",
    "            ['Cost Rica', 'Costa Rica'],\n",
    "            ['Mex,|Mex$', 'Mexico, '],\n",
    "            ['Jam,|Jam$', 'Jamaica, '],\n",
    "            ['Haw,|Haw$', 'Hawaii, '],\n",
    "            ['Gre,|Gre$', 'Grenada, '],\n",
    "            ['Tri,|Tri$', 'Trinidad, '],\n",
    "            ['C Am', 'Central America'],\n",
    "            ['S America', 'South America'],\n",
    "            [', $', ''], [',  ', ', '], [', ,', ', '], ['\\xa0', ' '],[',\\\\s+', ','],\n",
    "            [' Bali', ',Bali']\n",
    "        ]\n",
    "        for i, j in replacements:\n",
    "            text = re.sub(i, j, text)\n",
    "        return text\n",
    "\n",
    "df['bar_name'] = df['bar_name'].str.replace('.', '').apply(cleanup_spelling_abbrev)"
   ]
  },
  {
   "cell_type": "code",
   "execution_count": 86,
   "id": "1fffad6d-c82f-4920-aaf0-33c47c04b60b",
   "metadata": {},
   "outputs": [],
   "source": [
    "# Cast specific_origin to string\n",
    "\n",
    "df['bar_name'] = df['bar_name'].astype(str)"
   ]
  },
  {
   "cell_type": "code",
   "execution_count": 88,
   "id": "45efd42b-ebb1-418d-8dff-b3c30a6c4069",
   "metadata": {},
   "outputs": [],
   "source": [
    "# Replace null-valued fields with the same value as for specific_origin\n",
    "df['bean_origin'] = df['bean_origin'].fillna(df['bar_name'])"
   ]
  },
  {
   "cell_type": "code",
   "execution_count": 90,
   "id": "afcb4565-7a68-499d-9f8f-3f1fcb485018",
   "metadata": {},
   "outputs": [],
   "source": [
    " # Clean up spelling mistakes and deal with abbreviations\n",
    "df['bean_origin'] = df['bean_origin'].str.replace('.', '').apply(cleanup_spelling_abbrev)"
   ]
  },
  {
   "cell_type": "code",
   "execution_count": 92,
   "id": "da864af8-0098-4f0b-9c65-9c7e300581e2",
   "metadata": {},
   "outputs": [],
   "source": [
    " # Change 'Trinitario, Criollo' to \"Criollo, Trinitario\"\n",
    "# Check with df['bean_type'].unique()\n",
    "df.loc[df['bean_type'].isin(['Trinitario, Criollo']),'bean_type'] = \"Criollo, Trinitario\""
   ]
  },
  {
   "cell_type": "code",
   "execution_count": 94,
   "id": "f95d67d5-056c-4b65-976e-852b02d59a14",
   "metadata": {},
   "outputs": [],
   "source": [
    "# Fix chocolate maker names\n",
    "\n",
    "df.loc[df['company']=='Shattel','company'] = 'Shattell'\n",
    "df['company'] = df['company'].str.replace(u'Na\\xef\\xbf\\xbdve','Naive')"
   ]
  },
  {
   "cell_type": "code",
   "execution_count": 96,
   "id": "d9b10814-2bdb-4a08-acc6-abe5d8297ea0",
   "metadata": {},
   "outputs": [
    {
     "data": {
      "text/html": [
       "<div>\n",
       "<style scoped>\n",
       "    .dataframe tbody tr th:only-of-type {\n",
       "        vertical-align: middle;\n",
       "    }\n",
       "\n",
       "    .dataframe tbody tr th {\n",
       "        vertical-align: top;\n",
       "    }\n",
       "\n",
       "    .dataframe thead th {\n",
       "        text-align: right;\n",
       "    }\n",
       "</style>\n",
       "<table border=\"1\" class=\"dataframe\">\n",
       "  <thead>\n",
       "    <tr style=\"text-align: right;\">\n",
       "      <th></th>\n",
       "      <th>company</th>\n",
       "      <th>bar_name</th>\n",
       "      <th>reference_number</th>\n",
       "      <th>review_date</th>\n",
       "      <th>cocoa_percent</th>\n",
       "      <th>company_location</th>\n",
       "      <th>rating</th>\n",
       "      <th>bean_type</th>\n",
       "      <th>bean_origin</th>\n",
       "    </tr>\n",
       "  </thead>\n",
       "  <tbody>\n",
       "    <tr>\n",
       "      <th>0</th>\n",
       "      <td>A. Morin</td>\n",
       "      <td>Agua Grande</td>\n",
       "      <td>1876</td>\n",
       "      <td>2016</td>\n",
       "      <td>63</td>\n",
       "      <td>France</td>\n",
       "      <td>3.75</td>\n",
       "      <td>Missing</td>\n",
       "      <td>Sao Tome</td>\n",
       "    </tr>\n",
       "    <tr>\n",
       "      <th>1</th>\n",
       "      <td>A. Morin</td>\n",
       "      <td>Kpime</td>\n",
       "      <td>1676</td>\n",
       "      <td>2015</td>\n",
       "      <td>70</td>\n",
       "      <td>France</td>\n",
       "      <td>2.75</td>\n",
       "      <td>Missing</td>\n",
       "      <td>Togo</td>\n",
       "    </tr>\n",
       "    <tr>\n",
       "      <th>2</th>\n",
       "      <td>A. Morin</td>\n",
       "      <td>Atsane</td>\n",
       "      <td>1676</td>\n",
       "      <td>2015</td>\n",
       "      <td>70</td>\n",
       "      <td>France</td>\n",
       "      <td>3.00</td>\n",
       "      <td>Missing</td>\n",
       "      <td>Togo</td>\n",
       "    </tr>\n",
       "    <tr>\n",
       "      <th>3</th>\n",
       "      <td>A. Morin</td>\n",
       "      <td>Akata</td>\n",
       "      <td>1680</td>\n",
       "      <td>2015</td>\n",
       "      <td>70</td>\n",
       "      <td>France</td>\n",
       "      <td>3.50</td>\n",
       "      <td>Missing</td>\n",
       "      <td>Togo</td>\n",
       "    </tr>\n",
       "    <tr>\n",
       "      <th>4</th>\n",
       "      <td>A. Morin</td>\n",
       "      <td>Quilla</td>\n",
       "      <td>1704</td>\n",
       "      <td>2015</td>\n",
       "      <td>70</td>\n",
       "      <td>France</td>\n",
       "      <td>3.50</td>\n",
       "      <td>Missing</td>\n",
       "      <td>Peru</td>\n",
       "    </tr>\n",
       "  </tbody>\n",
       "</table>\n",
       "</div>"
      ],
      "text/plain": [
       "    company     bar_name  reference_number  review_date  cocoa_percent  \\\n",
       "0  A. Morin  Agua Grande              1876         2016             63   \n",
       "1  A. Morin        Kpime              1676         2015             70   \n",
       "2  A. Morin       Atsane              1676         2015             70   \n",
       "3  A. Morin        Akata              1680         2015             70   \n",
       "4  A. Morin       Quilla              1704         2015             70   \n",
       "\n",
       "  company_location  rating bean_type bean_origin  \n",
       "0           France    3.75   Missing    Sao Tome  \n",
       "1           France    2.75   Missing        Togo  \n",
       "2           France    3.00   Missing        Togo  \n",
       "3           France    3.50   Missing        Togo  \n",
       "4           France    3.50   Missing        Peru  "
      ]
     },
     "execution_count": 96,
     "metadata": {},
     "output_type": "execute_result"
    }
   ],
   "source": [
    "df.head()"
   ]
  },
  {
   "cell_type": "code",
   "execution_count": 98,
   "id": "ee4c04a2-d18f-447b-aa1f-ae7013745f4a",
   "metadata": {},
   "outputs": [
    {
     "data": {
      "text/plain": [
       "(1795, 9)"
      ]
     },
     "execution_count": 98,
     "metadata": {},
     "output_type": "execute_result"
    }
   ],
   "source": [
    "df.shape"
   ]
  },
  {
   "cell_type": "code",
   "execution_count": 100,
   "id": "3716ac30-4649-4181-9088-df6dfa77f978",
   "metadata": {},
   "outputs": [
    {
     "name": "stdout",
     "output_type": "stream",
     "text": [
      "The column names are: ['company', 'bar_name', 'reference_number', 'review_date', 'cocoa_percent', 'company_location', 'rating', 'bean_type', 'bean_origin'].\n",
      "\n"
     ]
    }
   ],
   "source": [
    "print(f'The column names are: {list(df.columns)}.\\n')\n",
    "\n"
   ]
  },
  {
   "cell_type": "code",
   "execution_count": 102,
   "id": "d34972db-9930-4fc4-81c0-6acf51d1223f",
   "metadata": {},
   "outputs": [
    {
     "name": "stdout",
     "output_type": "stream",
     "text": [
      "The unique value of column \"company\" are: 415.\n",
      "The unique value of column \"bar_name\" are: 1038.\n",
      "The unique value of column \"reference_number\" are: 440.\n",
      "The unique value of column \"review_date\" are: 12.\n",
      "The unique value of column \"cocoa_percent\" are: 42.\n",
      "The unique value of column \"company_location\" are: 58.\n",
      "The unique value of column \"rating\" are: 13.\n",
      "The unique value of column \"bean_type\" are: 40.\n",
      "The unique value of column \"bean_origin\" are: 97.\n"
     ]
    }
   ],
   "source": [
    "for col in list(df.columns):\n",
    "  print(f'The unique value of column \"{col}\" are: {df[col].nunique()}.')"
   ]
  },
  {
   "cell_type": "code",
   "execution_count": 104,
   "id": "5723039d-120b-4f2c-8888-9f0773ea71fd",
   "metadata": {},
   "outputs": [
    {
     "name": "stdout",
     "output_type": "stream",
     "text": [
      "Categorical Features :\n",
      "Numerical Features : company bar_name reference_number review_date cocoa_percent company_location rating bean_type bean_origin\n"
     ]
    }
   ],
   "source": [
    "# Dividing features into Numerical and Categorical\n",
    "col = list(df.columns)\n",
    "categorical_features = []\n",
    "numerical_features = []\n",
    "for i in col:\n",
    "    # define a feature is categorical when it has less than 6 unique values ( get rid of missclasifying encoded categrocial feature )\n",
    "    if len(df[i].unique()) > 6:\n",
    "        numerical_features.append(i) \n",
    "    else:\n",
    "        categorical_features.append(i) \n",
    "\n",
    "print('Categorical Features :',*categorical_features)\n",
    "print('Numerical Features :',*numerical_features)"
   ]
  },
  {
   "cell_type": "code",
   "execution_count": 106,
   "id": "354f9b05-91b1-413d-9e11-af792000d119",
   "metadata": {},
   "outputs": [
    {
     "data": {
      "text/html": [
       "<div>\n",
       "<style scoped>\n",
       "    .dataframe tbody tr th:only-of-type {\n",
       "        vertical-align: middle;\n",
       "    }\n",
       "\n",
       "    .dataframe tbody tr th {\n",
       "        vertical-align: top;\n",
       "    }\n",
       "\n",
       "    .dataframe thead th {\n",
       "        text-align: right;\n",
       "    }\n",
       "</style>\n",
       "<table border=\"1\" class=\"dataframe\">\n",
       "  <thead>\n",
       "    <tr style=\"text-align: right;\">\n",
       "      <th></th>\n",
       "      <th>reference_number</th>\n",
       "      <th>review_date</th>\n",
       "      <th>cocoa_percent</th>\n",
       "      <th>rating</th>\n",
       "    </tr>\n",
       "  </thead>\n",
       "  <tbody>\n",
       "    <tr>\n",
       "      <th>count</th>\n",
       "      <td>1795.00</td>\n",
       "      <td>1795.00</td>\n",
       "      <td>1795.00</td>\n",
       "      <td>1795.00</td>\n",
       "    </tr>\n",
       "    <tr>\n",
       "      <th>mean</th>\n",
       "      <td>1035.90</td>\n",
       "      <td>2012.33</td>\n",
       "      <td>71.70</td>\n",
       "      <td>3.19</td>\n",
       "    </tr>\n",
       "    <tr>\n",
       "      <th>std</th>\n",
       "      <td>552.89</td>\n",
       "      <td>2.93</td>\n",
       "      <td>6.32</td>\n",
       "      <td>0.48</td>\n",
       "    </tr>\n",
       "    <tr>\n",
       "      <th>min</th>\n",
       "      <td>5.00</td>\n",
       "      <td>2006.00</td>\n",
       "      <td>42.00</td>\n",
       "      <td>1.00</td>\n",
       "    </tr>\n",
       "    <tr>\n",
       "      <th>25%</th>\n",
       "      <td>576.00</td>\n",
       "      <td>2010.00</td>\n",
       "      <td>70.00</td>\n",
       "      <td>2.88</td>\n",
       "    </tr>\n",
       "    <tr>\n",
       "      <th>50%</th>\n",
       "      <td>1069.00</td>\n",
       "      <td>2013.00</td>\n",
       "      <td>70.00</td>\n",
       "      <td>3.25</td>\n",
       "    </tr>\n",
       "    <tr>\n",
       "      <th>75%</th>\n",
       "      <td>1502.00</td>\n",
       "      <td>2015.00</td>\n",
       "      <td>75.00</td>\n",
       "      <td>3.50</td>\n",
       "    </tr>\n",
       "    <tr>\n",
       "      <th>max</th>\n",
       "      <td>1952.00</td>\n",
       "      <td>2017.00</td>\n",
       "      <td>100.00</td>\n",
       "      <td>5.00</td>\n",
       "    </tr>\n",
       "  </tbody>\n",
       "</table>\n",
       "</div>"
      ],
      "text/plain": [
       "       reference_number  review_date  cocoa_percent  rating\n",
       "count           1795.00      1795.00        1795.00 1795.00\n",
       "mean            1035.90      2012.33          71.70    3.19\n",
       "std              552.89         2.93           6.32    0.48\n",
       "min                5.00      2006.00          42.00    1.00\n",
       "25%              576.00      2010.00          70.00    2.88\n",
       "50%             1069.00      2013.00          70.00    3.25\n",
       "75%             1502.00      2015.00          75.00    3.50\n",
       "max             1952.00      2017.00         100.00    5.00"
      ]
     },
     "execution_count": 106,
     "metadata": {},
     "output_type": "execute_result"
    }
   ],
   "source": [
    "df.describe()"
   ]
  },
  {
   "cell_type": "code",
   "execution_count": 108,
   "id": "332b7b3f-7ac0-491e-9b3b-e335b988912f",
   "metadata": {},
   "outputs": [],
   "source": [
    "# Define the ranges for cocoa percentages\n",
    "bins = [0, 50, 60, 70, 80, 90, 100]  # You can adjust the ranges as needed\n",
    "# Define labels for the ranges\n",
    "labels = ['<50%','50-60%', '60-70%', '70-80%', '80-90%', '90-100%']\n",
    "# Convert Cocoa Percent values into ranges\n",
    "df['Cocoa_Percent_Range'] = pd.cut(df['cocoa_percent'], bins=bins, labels=labels, right=False)"
   ]
  },
  {
   "cell_type": "code",
   "execution_count": 110,
   "id": "2e8f3d71-9661-44ab-b116-72cc0f279b76",
   "metadata": {},
   "outputs": [],
   "source": [
    "df.to_csv(os.path.join(path, '02 Data','Prepared Data', 'flavor_of_cacao_clean.csv'))"
   ]
  },
  {
   "cell_type": "code",
   "execution_count": null,
   "id": "646db71a-dae5-410d-b871-f56638736583",
   "metadata": {},
   "outputs": [],
   "source": []
  }
 ],
 "metadata": {
  "kernelspec": {
   "display_name": "Python 3 (ipykernel)",
   "language": "python",
   "name": "python3"
  },
  "language_info": {
   "codemirror_mode": {
    "name": "ipython",
    "version": 3
   },
   "file_extension": ".py",
   "mimetype": "text/x-python",
   "name": "python",
   "nbconvert_exporter": "python",
   "pygments_lexer": "ipython3",
   "version": "3.12.4"
  }
 },
 "nbformat": 4,
 "nbformat_minor": 5
}
